{
  "cells": [
    {
      "cell_type": "markdown",
      "metadata": {
        "id": "view-in-github",
        "colab_type": "text"
      },
      "source": [
        "<a href=\"https://colab.research.google.com/github/Karthick0308/CodeSoft---Python/blob/main/Task_1_To_Do_list.ipynb\" target=\"_parent\"><img src=\"https://colab.research.google.com/assets/colab-badge.svg\" alt=\"Open In Colab\"/></a>"
      ]
    },
    {
      "cell_type": "markdown",
      "metadata": {
        "id": "zbthVdHxU4gX"
      },
      "source": [
        "**CODSOFT INTERNSHIP**\n",
        "\n",
        "TASK 1: TO DO LIST\n",
        "\n",
        "AUTHOR: KARTHICK G\n",
        "\n",
        "DOMAIN : PYTHON"
      ]
    },
    {
      "cell_type": "markdown",
      "metadata": {
        "id": "F5oDMjDoVMpt"
      },
      "source": [
        "##Problem Statement"
      ]
    },
    {
      "cell_type": "markdown",
      "metadata": {
        "id": "Yx38FnGbVRq0"
      },
      "source": [
        "To create a to_do_list in python"
      ]
    },
    {
      "cell_type": "code",
      "execution_count": null,
      "metadata": {
        "colab": {
          "background_save": true,
          "base_uri": "https://localhost:8080/"
        },
        "id": "8HqOiiUBS8Cd",
        "outputId": "eb114045-6a0b-48be-df3f-23e1354bf5f1"
      },
      "outputs": [
        {
          "name": "stdout",
          "output_type": "stream",
          "text": [
            "\n",
            "To-Do List Menu:\n",
            "1. Add Task\n",
            "2. View Tasks\n",
            "3. Delete Task\n",
            "4. Exit\n",
            "Task 'i have to complete a task' added!\n",
            "\n",
            "To-Do List Menu:\n",
            "1. Add Task\n",
            "2. View Tasks\n",
            "3. Delete Task\n",
            "4. Exit\n",
            "To-Do List:\n",
            "1. i have to complete a task\n",
            "\n",
            "To-Do List Menu:\n",
            "1. Add Task\n",
            "2. View Tasks\n",
            "3. Delete Task\n",
            "4. Exit\n"
          ]
        }
      ],
      "source": [
        "import json\n",
        "import os\n",
        "\n",
        "TODO_FILE = 'todo_list.json'\n",
        "\n",
        "def load_tasks():\n",
        "    if os.path.exists(TODO_FILE):\n",
        "        with open(TODO_FILE, 'r') as file:\n",
        "            return json.load(file)\n",
        "    return []\n",
        "\n",
        "def save_tasks(tasks):\n",
        "    with open(TODO_FILE, 'w') as file:\n",
        "        json.dump(tasks, file, indent=4)\n",
        "\n",
        "def add_task(tasks):\n",
        "    task = input(\"Enter a task: \")\n",
        "    tasks.append(task)\n",
        "    save_tasks(tasks)\n",
        "    print(f\"Task '{task}' added!\")\n",
        "\n",
        "def view_tasks(tasks):\n",
        "    if not tasks:\n",
        "        print(\"No tasks found.\")\n",
        "        return\n",
        "    print(\"To-Do List:\")\n",
        "    for i, task in enumerate(tasks, 1):\n",
        "        print(f\"{i}. {task}\")\n",
        "\n",
        "def delete_task(tasks):\n",
        "    view_tasks(tasks)\n",
        "    if not tasks:\n",
        "        return\n",
        "    try:\n",
        "        task_num = int(input(\"Enter the number of the task to delete: \"))\n",
        "        if 1 <= task_num <= len(tasks):\n",
        "            removed_task = tasks.pop(task_num - 1)\n",
        "            save_tasks(tasks)\n",
        "            print(f\"Task '{removed_task}' deleted!\")\n",
        "        else:\n",
        "            print(\"Invalid task number.\")\n",
        "    except ValueError:\n",
        "        print(\"Please enter a valid number.\")\n",
        "\n",
        "def main():\n",
        "    tasks = load_tasks()\n",
        "    while True:\n",
        "        print(\"\\nTo-Do List Menu:\")\n",
        "        print(\"1. Add Task\")\n",
        "        print(\"2. View Tasks\")\n",
        "        print(\"3. Delete Task\")\n",
        "        print(\"4. Exit\")\n",
        "        choice = input(\"Enter your choice: \")\n",
        "\n",
        "        if choice == '1':\n",
        "            add_task(tasks)\n",
        "        elif choice == '2':\n",
        "            view_tasks(tasks)\n",
        "        elif choice == '3':\n",
        "            delete_task(tasks)\n",
        "        elif choice == '4':\n",
        "            print(\"Exiting...\")\n",
        "            break\n",
        "        else:\n",
        "            print(\"Invalid choice. Please try again.\")\n",
        "\n",
        "if __name__ == \"__main__\":\n",
        "    main()\n"
      ]
    },
    {
      "cell_type": "markdown",
      "metadata": {
        "id": "uUfNGUB-Viod"
      },
      "source": [
        "**CONCLUSION**"
      ]
    },
    {
      "cell_type": "markdown",
      "metadata": {
        "id": "gXYilA0xVnvw"
      },
      "source": [
        "The command-line to-do list application developed in Python successfully addresses the need for an efficient and straightforward task management tool. By allowing users to add, view, and delete tasks, the application enhances personal productivity and helps users stay organized. The use of persistent storage ensures that tasks are retained across sessions, providing a reliable solution for daily task tracking."
      ]
    }
  ],
  "metadata": {
    "colab": {
      "provenance": [],
      "include_colab_link": true
    },
    "kernelspec": {
      "display_name": "Python 3",
      "name": "python3"
    },
    "language_info": {
      "name": "python"
    }
  },
  "nbformat": 4,
  "nbformat_minor": 0
}